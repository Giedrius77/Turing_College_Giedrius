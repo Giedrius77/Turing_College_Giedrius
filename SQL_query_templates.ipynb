{
 "cells": [
  {
   "cell_type": "markdown",
   "metadata": {},
   "source": [
    "# 1. LONGEST & SHORTEST names\n",
    "---"
   ]
  },
  {
   "cell_type": "code",
   "execution_count": null,
   "metadata": {},
   "outputs": [],
   "source": [
    "(SELECT Firstname, LENGTH(Firstname) FROM `tc-da-1.adwentureworks_db.contact` ORDER BY LENGTH(Firstname) DESC LIMIT 1)\n",
    "    UNION ALL\n",
    "(SELECT Firstname, LENGTH(Firstname) FROM `tc-da-1.adwentureworks_db.contact` ORDER BY LENGTH(Firstname), Firstname LIMIT 1)"
   ]
  },
  {
   "cell_type": "markdown",
   "metadata": {},
   "source": [
    "# 2. ONLY SPECIFIC CHARACTERS\n",
    "---"
   ]
  },
  {
   "cell_type": "code",
   "execution_count": null,
   "metadata": {},
   "outputs": [],
   "source": [
    "# BigQuery\n",
    "SELECT Firstname\n",
    "FROM `adwentureworks_db.contact`\n",
    "WHERE REGEXP_CONTAINS (Firstname, '^[AEIOUaeiou]') # start with - '^[AEIOUaeiou]', end with '[AEIOUaeiou]$'\n",
    "# MySQL\n",
    "SELECT Firstname\n",
    "FROM `adwentureworks_db.contact`\n",
    "WHERE Firstname REGEXP '^[AEIOUaeiou]' # start with - '^[AEIOUaeiou]', end with '[AEIOUaeiou]$'\n",
    "# MySQL\n",
    "SELECT DISTINCT(city) FROM station WHERE city REGEXP '[AEIOUaeiou]$';\n",
    "SELECT DISTINCT(city) FROM station WHERE city REGEXP '^[AEIOUaeiou].*[AEIOUaeiou]$'; # start with any vowel (uppercase or lowercase) and end with any vowel.\n",
    "SELECT DISTINCT(city) FROM station WHERE city REGEXP '^[^AEIOUaeiou]'; # NOT start with any vowel (uppercase or lowercase)\n",
    "SELECT DISTINCT(city) FROM station WHERE city REGEXP '[^AEIOU aeiou]$'; # NOT end with any vowel (uppercase or lowercase)\n",
    "SELECT DISTINCT(city) FROM station WHERE city REGEXP '^[^AEIOUaeiou]|[^AEIOUaeiou]$'; # NOT start with any vowel (uppercase or lowercase) OR NOT end with any vowel"
   ]
  },
  {
   "cell_type": "markdown",
   "metadata": {},
   "source": [
    "# 3. DATE from FULL DATE format\n",
    "---"
   ]
  },
  {
   "cell_type": "code",
   "execution_count": null,
   "metadata": {},
   "outputs": [],
   "source": [
    "SELECT header.OrderDate, DATE_SUB(DATE_ADD(DATE_TRUNC(DATE(header.OrderDate), MONTH), INTERVAL 1 MONTH), INTERVAL 1 DAY) AS order_month1, \n",
    "FROM `adwentureworks_db.salesorderheader` AS header\n",
    "GROUP BY header.OrderDate, order_month1, order_month2;"
   ]
  },
  {
   "cell_type": "code",
   "execution_count": null,
   "metadata": {},
   "outputs": [],
   "source": [
    "SELECT header.OrderDate, LAST_DAY(CAST(header.OrderDate AS DATE)) AS order_month2\n",
    "FROM `adwentureworks_db.salesorderheader` AS header\n",
    "GROUP BY header.OrderDate, order_month1, order_month2;"
   ]
  },
  {
   "cell_type": "markdown",
   "metadata": {},
   "source": [
    "# 4. DIFFERENCE between two DATES using DATE_DIFF\n",
    "---"
   ]
  },
  {
   "cell_type": "code",
   "execution_count": null,
   "metadata": {},
   "outputs": [],
   "source": [
    "# BigQuery\n",
    "SELECT DATE_DIFF(ActualEndDate, ActualStartDate, day) AS days_diff,\n",
    "  AVG(DATE_DIFF(ActualEndDate, ActualStartDate, day)) AS avg_days_diff,\n",
    "  ROUND(AVG(DATE_DIFF(ActualEndDate, ActualStartDate, day)),2) AS avg_days_diff1\n",
    "FROM `tc-da-1.adwentureworks_db.workorderrouting`\n",
    "-- WHERE ActualStartDate BETWEEN '2004-01-01' AND '2004-01-31'\n",
    "GROUP BY days_diff;\n",
    "#MySQL\n",
    "SELECT DATE_DIFF(ActualEndDate, ActualStartDate) AS days_diff,\n",
    "FROM `tc-da-1.adwentureworks_db.workorderrouting`;"
   ]
  },
  {
   "cell_type": "markdown",
   "metadata": {},
   "source": [
    "# 5. PULLING only MONTH from DATE\n",
    "---"
   ]
  },
  {
   "cell_type": "code",
   "execution_count": null,
   "metadata": {},
   "outputs": [],
   "source": [
    "SELECT client_id, MONTH(time_id) AS month, COUNT(DISTINCT(user_id)) AS users_num\n",
    "FROM fact_events\n",
    "GROUP BY client_id, month;"
   ]
  }
 ],
 "metadata": {
  "language_info": {
   "name": "python"
  }
 },
 "nbformat": 4,
 "nbformat_minor": 2
}
