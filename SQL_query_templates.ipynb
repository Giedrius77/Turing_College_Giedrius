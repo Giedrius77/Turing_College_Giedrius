{
 "cells": [
  {
   "cell_type": "markdown",
   "metadata": {},
   "source": [
    "## 1. LONGEST & SHORTEST names\n",
    "---"
   ]
  },
  {
   "cell_type": "code",
   "execution_count": null,
   "metadata": {},
   "outputs": [],
   "source": [
    "(SELECT Firstname, LENGTH(Firstname) FROM `tc-da-1.adwentureworks_db.contact` ORDER BY LENGTH(Firstname) DESC LIMIT 1)\n",
    "    UNION ALL\n",
    "(SELECT Firstname, LENGTH(Firstname) FROM `tc-da-1.adwentureworks_db.contact` ORDER BY LENGTH(Firstname), Firstname LIMIT 1)"
   ]
  },
  {
   "cell_type": "markdown",
   "metadata": {},
   "source": [
    "## 2. ONLY SPECIFIC CHARACTERS\n",
    "---"
   ]
  },
  {
   "cell_type": "code",
   "execution_count": null,
   "metadata": {},
   "outputs": [],
   "source": [
    "# BigQuery\n",
    "SELECT Firstname\n",
    "FROM `adwentureworks_db.contact`\n",
    "WHERE REGEXP_CONTAINS (Firstname, '^[AEIOUaeiou]') # start with - '^[AEIOUaeiou]', end with '[AEIOUaeiou]$'\n",
    "# MySQL\n",
    "SELECT Firstname\n",
    "FROM `adwentureworks_db.contact`\n",
    "WHERE Firstname REGEXP '^[AEIOUaeiou]' # start with - '^[AEIOUaeiou]', end with '[AEIOUaeiou]$'\n",
    "# MySQL\n",
    "SELECT DISTINCT(city) FROM station WHERE city REGEXP '[AEIOUaeiou]$';\n",
    "SELECT DISTINCT(city) FROM station WHERE city REGEXP '^[AEIOUaeiou].*[AEIOUaeiou]$'; # start with any vowel (uppercase or lowercase) and end with any vowel.\n",
    "SELECT DISTINCT(city) FROM station WHERE city REGEXP '^[^AEIOUaeiou]'; # NOT start with any vowel (uppercase or lowercase)\n",
    "SELECT DISTINCT(city) FROM station WHERE city REGEXP '[^AEIOU aeiou]$'; # NOT end with any vowel (uppercase or lowercase)\n",
    "SELECT DISTINCT(city) FROM station WHERE city REGEXP '^[^AEIOUaeiou]|[^AEIOUaeiou]$'; # NOT start with any vowel (uppercase or lowercase) OR NOT end with any vowel"
   ]
  },
  {
   "cell_type": "markdown",
   "metadata": {},
   "source": [
    "## 3. DATE from FULL DATE format\n",
    "---"
   ]
  },
  {
   "cell_type": "code",
   "execution_count": null,
   "metadata": {},
   "outputs": [],
   "source": [
    "SELECT header.OrderDate, DATE_SUB(DATE_ADD(DATE_TRUNC(DATE(header.OrderDate), MONTH), INTERVAL 1 MONTH), INTERVAL 1 DAY) AS order_month1, \n",
    "FROM `adwentureworks_db.salesorderheader` AS header\n",
    "GROUP BY header.OrderDate, order_month1, order_month2;"
   ]
  },
  {
   "cell_type": "code",
   "execution_count": null,
   "metadata": {},
   "outputs": [],
   "source": [
    "SELECT header.OrderDate, LAST_DAY(CAST(header.OrderDate AS DATE)) AS order_month2\n",
    "FROM `adwentureworks_db.salesorderheader` AS header\n",
    "GROUP BY header.OrderDate, order_month1, order_month2;"
   ]
  },
  {
   "cell_type": "markdown",
   "metadata": {},
   "source": [
    "## 4. DIFFERENCE between two DATES using DATE_DIFF\n",
    "---"
   ]
  },
  {
   "cell_type": "code",
   "execution_count": null,
   "metadata": {},
   "outputs": [],
   "source": [
    "# BigQuery\n",
    "SELECT DATE_DIFF(ActualEndDate, ActualStartDate, day) AS days_diff,\n",
    "  AVG(DATE_DIFF(ActualEndDate, ActualStartDate, day)) AS avg_days_diff,\n",
    "  ROUND(AVG(DATE_DIFF(ActualEndDate, ActualStartDate, day)),2) AS avg_days_diff1\n",
    "FROM `tc-da-1.adwentureworks_db.workorderrouting`\n",
    "-- WHERE ActualStartDate BETWEEN '2004-01-01' AND '2004-01-31'\n",
    "GROUP BY days_diff;\n",
    "#MySQL\n",
    "SELECT DATE_DIFF(ActualEndDate, ActualStartDate) AS days_diff,\n",
    "FROM `tc-da-1.adwentureworks_db.workorderrouting`;"
   ]
  },
  {
   "cell_type": "markdown",
   "metadata": {},
   "source": [
    "## 5. PULLING only MONTH from DATE\n",
    "---"
   ]
  },
  {
   "cell_type": "code",
   "execution_count": null,
   "metadata": {},
   "outputs": [],
   "source": [
    "SELECT client_id, MONTH(time_id) AS month, COUNT(DISTINCT(user_id)) AS users_num\n",
    "FROM fact_events\n",
    "GROUP BY client_id, month;"
   ]
  },
  {
   "cell_type": "markdown",
   "metadata": {},
   "source": [
    "## 6. ORDER by the last characters\n",
    "---"
   ]
  },
  {
   "cell_type": "code",
   "execution_count": null,
   "metadata": {},
   "outputs": [],
   "source": [
    "SELECT Name FROM students WHERE Marks > 75 ORDER BY RIGHT(name,3), ID;"
   ]
  },
  {
   "cell_type": "markdown",
   "metadata": {},
   "source": [
    "# ALTERNATIVE QUERIES:"
   ]
  },
  {
   "cell_type": "markdown",
   "metadata": {},
   "source": [
    "### 1. PATTERN P(20). (prints 20 rows starting with one * and adding additional * on top every row down to bottom) \n",
    "---"
   ]
  },
  {
   "cell_type": "code",
   "execution_count": null,
   "metadata": {},
   "outputs": [],
   "source": [
    "WITH RECURSIVE star_pattern AS (\n",
    "    SELECT 1 AS star_count\n",
    "    UNION ALL\n",
    "    SELECT star_count + 1\n",
    "    FROM star_pattern\n",
    "    WHERE star_count < 20)\n",
    "SELECT REPEAT('* ', star_count) AS stars\n",
    "FROM star_pattern;\n",
    "#ORDER BY stars DESC; - will print from 20 down to 1"
   ]
  },
  {
   "cell_type": "markdown",
   "metadata": {},
   "source": [
    "### 2. PRIME numbers less than or equal to 1000\n",
    "---"
   ]
  },
  {
   "cell_type": "code",
   "execution_count": null,
   "metadata": {},
   "outputs": [],
   "source": [
    "#Step 1: Creating a recursive CTE to generate numbers\n",
    "WITH RECURSIVE numbers AS (\n",
    "    SELECT 2 AS num\n",
    "    UNION ALL\n",
    "    SELECT num + 1\n",
    "    FROM numbers\n",
    "    WHERE num < 1000\n",
    "),\n",
    "#Step 2: Identifying prime numbers\n",
    "primes AS (\n",
    "    SELECT num AS prime\n",
    "    FROM numbers n1\n",
    "    WHERE NOT EXISTS (\n",
    "        SELECT 1\n",
    "        FROM numbers n2\n",
    "        WHERE n2.num < n1.num\n",
    "          AND n1.num % n2.num = 0\n",
    "    )\n",
    ")\n",
    "#Step 3: Concatenating the prime numbers with '&' separator\n",
    "SELECT GROUP_CONCAT(prime ORDER BY prime SEPARATOR '&') AS prime_list\n",
    "FROM primes;"
   ]
  }
 ],
 "metadata": {
  "language_info": {
   "name": "python"
  }
 },
 "nbformat": 4,
 "nbformat_minor": 2
}
