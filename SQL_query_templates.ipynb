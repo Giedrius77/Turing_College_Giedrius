{
 "cells": [
  {
   "cell_type": "markdown",
   "metadata": {},
   "source": [
    "# 1. LONGEST & SHORTEST names\n",
    "---"
   ]
  },
  {
   "cell_type": "code",
   "execution_count": null,
   "metadata": {},
   "outputs": [],
   "source": [
    "(SELECT Firstname, LENGTH(Firstname) FROM `tc-da-1.adwentureworks_db.contact` ORDER BY LENGTH(Firstname) DESC LIMIT 1)\n",
    "    UNION ALL\n",
    "(SELECT Firstname, LENGTH(Firstname) FROM `tc-da-1.adwentureworks_db.contact` ORDER BY LENGTH(Firstname), Firstname LIMIT 1)"
   ]
  },
  {
   "cell_type": "markdown",
   "metadata": {},
   "source": [
    "# 2. ONLY SPECIFIC CHARACTERS\n",
    "---"
   ]
  },
  {
   "cell_type": "code",
   "execution_count": null,
   "metadata": {},
   "outputs": [],
   "source": [
    "# BigQuery\n",
    "SELECT Firstname\n",
    "FROM `adwentureworks_db.contact`\n",
    "WHERE REGEXP_CONTAINS (Firstname, '^[AEIOUaeiou]')\n",
    "# MySQL\n",
    "SELECT Firstname\n",
    "FROM `adwentureworks_db.contact`\n",
    "WHERE Firstname REGEXP '^[AEIOUaeiou]'"
   ]
  },
  {
   "cell_type": "markdown",
   "metadata": {},
   "source": [
    "# 3. DATE from FULL DATE format\n",
    "---"
   ]
  },
  {
   "cell_type": "code",
   "execution_count": null,
   "metadata": {},
   "outputs": [],
   "source": [
    "SELECT header.OrderDate, DATE_SUB(DATE_ADD(DATE_TRUNC(DATE(header.OrderDate), MONTH), INTERVAL 1 MONTH), INTERVAL 1 DAY) AS order_month1, \n",
    "FROM `adwentureworks_db.salesorderheader` AS header\n",
    "GROUP BY header.OrderDate, order_month1, order_month2;"
   ]
  },
  {
   "cell_type": "code",
   "execution_count": null,
   "metadata": {},
   "outputs": [],
   "source": [
    "SELECT header.OrderDate, LAST_DAY(CAST(header.OrderDate AS DATE)) AS order_month2\n",
    "FROM `adwentureworks_db.salesorderheader` AS header\n",
    "GROUP BY header.OrderDate, order_month1, order_month2;"
   ]
  }
 ],
 "metadata": {
  "language_info": {
   "name": "python"
  }
 },
 "nbformat": 4,
 "nbformat_minor": 2
}
