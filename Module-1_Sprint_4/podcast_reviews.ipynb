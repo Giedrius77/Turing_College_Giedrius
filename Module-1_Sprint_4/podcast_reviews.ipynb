{
 "cells": [
  {
   "cell_type": "markdown",
   "metadata": {},
   "source": [
    "# Podcast_Reviews project\n",
    "---"
   ]
  },
  {
   "cell_type": "markdown",
   "metadata": {},
   "source": [
    "### We're eyeing an opportunity to diversify our advertising by sponsoring top podcasts. But here's the thing - we're not quite sure which ones would best align with our brand. We've got this “podcast_reviews” dataset from iTunes, and we're hoping it could shed some light"
   ]
  },
  {
   "cell_type": "markdown",
   "metadata": {},
   "source": [
    "## 1. Profiling Categories"
   ]
  },
  {
   "cell_type": "markdown",
   "metadata": {},
   "source": [
    "- We begin by checking for missing data in the categories table:\n",
    "- The results indicate no missing podcast_id or category values, which is a positive start."
   ]
  },
  {
   "cell_type": "code",
   "execution_count": null,
   "metadata": {
    "vscode": {
     "languageId": "plaintext"
    }
   },
   "outputs": [],
   "source": [
    "SELECT\n",
    "  COUNT(*) AS cnt_rows,\n",
    "  SUM(CASE WHEN podcast_id IS NULL THEN 1 ELSE 0 END) AS cnt_missing_ids,\n",
    "  SUM(CASE WHEN category IS NULL THEN 1 ELSE 0 END) AS cnt_missing_categories\n",
    "FROM\n",
    "  `podcast_reviews.categories`"
   ]
  },
  {
   "cell_type": "markdown",
   "metadata": {},
   "source": [
    "- Next, we explore the diversity of the data in the categories table:"
   ]
  },
  {
   "cell_type": "markdown",
   "metadata": {},
   "source": [
    "SELECT\n",
    " COUNT(*) AS cnt_rows,\n",
    " COUNT(DISTINCT podcast_id) AS cnt_distinct_podcasts,\n",
    " COUNT(DISTINCT category) AS cnt_distinct_categories\n",
    "FROM\n",
    " `podcast_reviews.categories`"
   ]
  },
  {
   "cell_type": "markdown",
   "metadata": {},
   "source": [
    "- The findings reveal more rows than unique podcasts, suggesting that podcasts may belong to multiple categories. To confirm this, we investigate further by counting the number of categories each podcast is associated with and by listing the top 5 in descending order."
   ]
  },
  {
   "cell_type": "markdown",
   "metadata": {},
   "source": [
    "SELECT podcast_id,\n",
    " COUNT(DISTINCT category) AS cnt_categories\n",
    "FROM `podcast_reviews.categories`\n",
    "GROUP BY podcast_id\n",
    "ORDER BY cnt_categories DESC\n",
    "LIMIT 5;"
   ]
  },
  {
   "cell_type": "markdown",
   "metadata": {},
   "source": [
    "- This confirms that some podcasts are indeed associated with multiple categories. To understand the implications of this categorization, we select a few podcasts for a closer examination, revealing that a podcast can be linked to both broad and specific categories."
   ]
  },
  {
   "cell_type": "markdown",
   "metadata": {},
   "source": [
    "SELECT podcast_id, category\n",
    "FROM `podcast_reviews.categories`\n",
    "WHERE podcast_id IN ('c4be70db3c16d3607bd7ae4999cb6e86',\n",
    "   'be905117ff9b3a13b1a065801241903b',\n",
    "   'fa8c359031380cd4f3b38358c8a75f92')\n",
    "ORDER BY podcast_id, category;"
   ]
  },
  {
   "cell_type": "markdown",
   "metadata": {},
   "source": [
    "- We raise the hypothesis that every podcast_id that is associated with a lower level category such as “business-entrepreneurship” is also associated with the broader category such as “business”. To verify or to reject this hypothesis we take a closer look."
   ]
  },
  {
   "cell_type": "markdown",
   "metadata": {},
   "source": [
    "SELECT COUNT(DISTINCT podcast_id) AS cnt_distinct_podcasts,\n",
    " SUM(CASE WHEN category='business' THEN 1 ELSE 0 END) AS cnt_business\n",
    "FROM `podcast_reviews.categories`\n",
    "WHERE podcast_id IN (SELECT podcast_id FROM `podcast_reviews.categories` WHERE category='business-entrepreneurship')"
   ]
  },
  {
   "cell_type": "markdown",
   "metadata": {},
   "source": [
    "- The results suggest that the majority of “business-entrepreneurship” associated podcasts were also associated with “business” (3371/3601 = 0.936 ~ 94 %), however this is not always the case.\n",
    "\n",
    "Furthermore we observed that the podcasts are also associated with different categories such as “arts” and “business” at the same time.\n",
    "\n",
    "This will make the evaluation much more difficult and error prone."
   ]
  },
  {
   "cell_type": "markdown",
   "metadata": {},
   "source": [
    "## 2. Profiling Podcasts"
   ]
  },
  {
   "cell_type": "markdown",
   "metadata": {},
   "source": [
    "- Turning our attention to the podcasts table, our primary interest lies in ensuring that the podcast titles are present and there are no duplicate entries:\n",
    "- The results confirm that each podcast has a unique ID and there are no missing values."
   ]
  },
  {
   "cell_type": "code",
   "execution_count": null,
   "metadata": {
    "vscode": {
     "languageId": "plaintext"
    }
   },
   "outputs": [],
   "source": [
    "SELECT COUNT(*) AS cnt_rows,\n",
    "    COUNT(DISTINCT podcast_id) AS cnt_distinct_podcasts,\n",
    "    SUM(CASE WHEN podcast_id IS NULL THEN 1 ELSE 0 END) AS cnt_nulls\n",
    "FROM\n",
    " `podcast_reviews.podcasts`;"
   ]
  },
  {
   "cell_type": "markdown",
   "metadata": {},
   "source": [
    "## 3. Profiling Reviews"
   ]
  },
  {
   "cell_type": "markdown",
   "metadata": {},
   "source": [
    "- A brief examination of the reviews table aims to understand the volume of reviews per podcast and check for any missing podcast_id values:\n",
    "- This analysis shows a healthy average number of reviews per podcast, with no missing podcast IDs, indicating active listener engagement across the board."
   ]
  },
  {
   "cell_type": "code",
   "execution_count": null,
   "metadata": {
    "vscode": {
     "languageId": "plaintext"
    }
   },
   "outputs": [],
   "source": [
    "SELECT COUNT(*) AS cnt_rows,\n",
    "    COUNT(DISTINCT podcast_id) AS cnt_distinct_podcasts,\n",
    "    ROUND(COUNT(*) / COUNT(DISTINCT podcast_id),1) AS ratio_review_per_podcast,\n",
    "    SUM(CASE WHEN podcast_id IS NULL THEN 1 ELSE 0 END) AS cnt_nulls\n",
    "FROM `podcast_reviews.reviews`;"
   ]
  },
  {
   "cell_type": "markdown",
   "metadata": {},
   "source": [
    "## 4. Interim findings"
   ]
  },
  {
   "cell_type": "markdown",
   "metadata": {},
   "source": [
    "- We explored the podcast_reviews database that provides data on podcasts in the USA and is based on scraped iTunes data. The database provides 16 irregular scrapings from period 2021-05 to 2023-02."
   ]
  },
  {
   "cell_type": "code",
   "execution_count": null,
   "metadata": {
    "vscode": {
     "languageId": "plaintext"
    }
   },
   "outputs": [],
   "source": [
    "SELECT\n",
    " DATE(MIN(run_at)) first_data_added,\n",
    " DATE(MAX(run_at)) last_data_added,\n",
    " COUNT(DISTINCT run_at) AS cnt_uploads\n",
    "FROM `podcast_reviews.runs`;"
   ]
  },
  {
   "cell_type": "markdown",
   "metadata": {},
   "source": [
    "# Review"
   ]
  },
  {
   "cell_type": "markdown",
   "metadata": {},
   "source": [
    "Data reveals the multifaceted nature of podcast categorization within the dataset, with some podcasts appearing in multiple categories (such as “arts” and “business”), including higher level and lower level category ones (“business” and “business-entrepreneurship”) at the same time.\n",
    "\n",
    "This complexity needs to be considered when analyzing the data at the category level as this introduces double-counting (multiple-counting) of reviews in overlapping categories. Thus we suggest abstaining from using this approach.\n",
    "\n",
    "Thus we provide two tables:\n",
    "\n",
    "1. Identifying the top 5 categories based on review volume and, within those, the top podcasts by reviews. This method will include double-counting and will not be precise. However, given the data structure, there is not much we can do about it. And its closest to the initial request.\n",
    "\n",
    "2. Focusing on the most reviewed podcasts irrespective of their categories, identifying the top 25 podcasts based solely on review counts - could be also a valuable information for the decision makers. This approach offers a straightforward view of the most popular podcasts without the complications of categorization and double counting of reviews."
   ]
  },
  {
   "cell_type": "markdown",
   "metadata": {},
   "source": [
    "# Target"
   ]
  },
  {
   "cell_type": "markdown",
   "metadata": {},
   "source": [
    "## Top 5 categories and top 5 podcasts\n",
    "\n",
    "This query identifies the top 5 categories with the most reviews from the podcast_reviews.categories table, and within those categories, it finds the top 5 podcasts based on the number of reviews.\n",
    "\n",
    "It uses two Common Table Expressions (CTEs): the first one (cat_reviews_count) to select the top categories, and the second one (top_podcasts_within_cat) to rank podcasts within these categories. The final SELECT statement then retrieves the category, the number of reviews for the category, podcast titles, and review counts for these top podcasts, ordering the results by category review count and individual podcast review count."
   ]
  },
  {
   "cell_type": "code",
   "execution_count": null,
   "metadata": {
    "vscode": {
     "languageId": "plaintext"
    }
   },
   "outputs": [],
   "source": [
    "WITH cat_reviews_count AS (\n",
    " SELECT\n",
    "   categories.category,\n",
    "   COUNT(*) AS cnt_category_reviews\n",
    " FROM\n",
    "   `podcast_reviews.categories` AS categories\n",
    " JOIN\n",
    "   `podcast_reviews.reviews` AS reviews ON categories.podcast_id = reviews.podcast_id\n",
    " GROUP BY\n",
    "   categories.category\n",
    " ORDER BY\n",
    "   cnt_category_reviews DESC\n",
    " LIMIT 5\n",
    "),\n",
    "\n",
    "top_podcasts_within_cat AS (\n",
    " SELECT\n",
    "   cat_reviews_count.category,\n",
    "   cat_reviews_count.cnt_category_reviews,\n",
    "   categories.podcast_id,\n",
    "   COUNT(*) AS cnt_reviews,\n",
    "   RANK() OVER (PARTITION BY cat_reviews_count.category ORDER BY COUNT(*) DESC) AS rank\n",
    " FROM\n",
    "   `podcast_reviews.categories` AS categories\n",
    " JOIN\n",
    "   `podcast_reviews.reviews` AS reviews ON categories.podcast_id = reviews.podcast_id\n",
    " INNER JOIN\n",
    "   cat_reviews_count AS cat_reviews_count ON categories.category = cat_reviews_count.category\n",
    " GROUP BY\n",
    "   cat_reviews_count.category, cat_reviews_count.cnt_category_reviews, categories.podcast_id\n",
    ")\n",
    "\n",
    "SELECT\n",
    " top_podcasts_within_cat.category,\n",
    " top_podcasts_within_cat.cnt_category_reviews,\n",
    " podcasts.title,\n",
    " top_podcasts_within_cat.cnt_reviews AS review_count\n",
    "FROM\n",
    " top_podcasts_within_cat\n",
    "LEFT JOIN\n",
    " `podcast_reviews.podcasts` AS podcasts ON top_podcasts_within_cat.podcast_id = podcasts.podcast_id\n",
    "WHERE\n",
    " top_podcasts_within_cat.rank <= 5\n",
    "ORDER BY\n",
    " top_podcasts_within_cat.cnt_category_reviews DESC, review_count DESC;"
   ]
  },
  {
   "cell_type": "markdown",
   "metadata": {},
   "source": [
    "## Summary"
   ]
  },
  {
   "cell_type": "markdown",
   "metadata": {},
   "source": [
    "The table summarizes the top 5 podcasts within the top 5 categories based on the total number of reviews. The categories featured are \"Society & Culture,\" \"Comedy,\" \"Education,\" \"Business,\" and \"News.\" Each category has an aggregate review count, with individual podcasts listed alongside their specific review counts. For instance, the \"Society & Culture\" category leads with 441,874 reviews across its top 5 podcasts, with \"True Crime Obsessed\" being the most reviewed podcast in this category with 7,310 reviews. Similarly, other categories follow this pattern, showcasing the diversity in content and audience engagement across different genres."
   ]
  },
  {
   "cell_type": "markdown",
   "metadata": {},
   "source": [
    "# Top 25 podcasts across all categories\n",
    "\n",
    "This query compiles a list of the top 25 podcasts based on the number of reviews in the podcast_reviews.reviews table.\n",
    "\n",
    "It creates a Common Table Expression (CTE) named top_25_podcasts that aggregates review counts for each podcast and selects the 25 with the highest counts. The final SELECT statement then joins this CTE with the podcast_reviews.podcasts table to retrieve the titles of these top podcasts along with their review counts."
   ]
  },
  {
   "cell_type": "code",
   "execution_count": null,
   "metadata": {
    "vscode": {
     "languageId": "plaintext"
    }
   },
   "outputs": [],
   "source": [
    "WITH top_25_podcasts AS (SELECT podcast_id, COUNT(*) AS cnt_reviews FROM `podcast_reviews.reviews`\n",
    "  GROUP BY podcast_id\n",
    "  ORDER BY cnt_reviews DESC\n",
    "  LIMIT 25)\n",
    "\n",
    "SELECT podcasts.title, top_25_podcasts.cnt_reviews\n",
    "FROM top_25_podcasts\n",
    "LEFT JOIN `podcast_reviews.podcasts` AS podcasts ON top_25_podcasts.podcast_id = podcasts.podcast_id;"
   ]
  },
  {
   "cell_type": "markdown",
   "metadata": {},
   "source": [
    "The table provides a summary of the top 25 podcasts ranked by their review counts. \"Crime Junkie\" leads the list with 33,104 reviews, indicating its popularity. The genres vary widely, including true crime, comedy, education, and news, reflecting a diverse range of listener interests. Notably, \"My Favorite Murder\" and \"Wow in the World\" follow \"Crime Junkie\" with significant review counts, highlighting their strong listener engagement. The list also features well-known podcasts like \"The Ben Shapiro Show,\" \"The Joe Rogan Experience,\" and \"Stuff You Should Know,\" showcasing their broad appeal. This summary underscores the wide appeal of these podcasts across different audience segments."
   ]
  }
 ],
 "metadata": {
  "language_info": {
   "name": "python"
  }
 },
 "nbformat": 4,
 "nbformat_minor": 2
}
